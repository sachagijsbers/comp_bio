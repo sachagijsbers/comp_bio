{
 "cells": [
  {
   "cell_type": "markdown",
   "metadata": {},
   "source": [
    "(a) Analyse the Michaelis-Menten Equation. What is the meaning of Km and\n",
    "Vmax?"
   ]
  },
  {
   "cell_type": "markdown",
   "metadata": {},
   "source": [
    "(b) Why can we assume Vmax = Etotal ∗ k2?\n"
   ]
  },
  {
   "cell_type": "markdown",
   "metadata": {},
   "source": [
    "(c) We already noted that [S] >> [E]. Now assume that we are in the unlikely\n",
    "event where [E] >> [S]. Does the assumption Vmax = Etotal ∗k2 still stand?\n",
    "Explain this."
   ]
  }
 ],
 "metadata": {
  "language_info": {
   "name": "python"
  }
 },
 "nbformat": 4,
 "nbformat_minor": 2
}
